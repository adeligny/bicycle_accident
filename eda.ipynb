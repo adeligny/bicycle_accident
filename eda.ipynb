{
 "cells": [
  {
   "cell_type": "markdown",
   "metadata": {},
   "source": [
    "# EDA Steps"
   ]
  },
  {
   "cell_type": "markdown",
   "metadata": {},
   "source": [
    "## 1. Importation des bibliothèques"
   ]
  },
  {
   "cell_type": "code",
   "execution_count": null,
   "metadata": {},
   "outputs": [],
   "source": [
    "import pandas as pd\n",
    "import matplotlib.pyplot as plt"
   ]
  },
  {
   "cell_type": "markdown",
   "metadata": {},
   "source": [
    "## 2. Chargement des données"
   ]
  },
  {
   "cell_type": "code",
   "execution_count": 80,
   "metadata": {},
   "outputs": [
    {
     "name": "stderr",
     "output_type": "stream",
     "text": [
      "C:\\Users\\Anaïs\\AppData\\Local\\Temp\\ipykernel_23276\\503521766.py:1: DtypeWarning: Columns (30) have mixed types. Specify dtype option on import or set low_memory=False.\n",
      "  df = pd.read_csv(\"bicycle_accident.csv\", sep=\",\")\n"
     ]
    }
   ],
   "source": [
    "df = pd.read_csv(\"bicycle_accident.csv\", sep=\",\")"
   ]
  },
  {
   "cell_type": "markdown",
   "metadata": {},
   "source": [
    "## 3. Visualisation des données"
   ]
  },
  {
   "cell_type": "markdown",
   "metadata": {},
   "source": [
    "Afficher le nombre de lignes et de colonnes"
   ]
  },
  {
   "cell_type": "code",
   "execution_count": 17,
   "metadata": {},
   "outputs": [
    {
     "data": {
      "text/plain": [
       "(74758, 40)"
      ]
     },
     "execution_count": 17,
     "metadata": {},
     "output_type": "execute_result"
    }
   ],
   "source": [
    "df.shape"
   ]
  },
  {
   "cell_type": "markdown",
   "metadata": {},
   "source": [
    "Afficher le nom des variables (colonnes)"
   ]
  },
  {
   "cell_type": "code",
   "execution_count": 20,
   "metadata": {},
   "outputs": [
    {
     "data": {
      "text/plain": [
       "Index(['Num_Acc', 'date', 'an', 'mois', 'jour', 'hrmn', 'dep', 'com', 'lat',\n",
       "       'long', 'agg', 'int', 'col', 'lum', 'atm', 'catr', 'circ', 'nbv',\n",
       "       'prof', 'plan', 'lartpc', 'larrout', 'surf', 'infra', 'situ', 'grav',\n",
       "       'sexe', 'age', 'trajet', 'secuexist', 'equipement', 'obs', 'obsm',\n",
       "       'choc', 'manv', 'vehiculeid', 'typevehicules', 'manoeuvehicules',\n",
       "       'numVehicules', '_infos_commune.code_epci'],\n",
       "      dtype='object')"
      ]
     },
     "execution_count": 20,
     "metadata": {},
     "output_type": "execute_result"
    }
   ],
   "source": [
    "df.columns"
   ]
  },
  {
   "cell_type": "markdown",
   "metadata": {},
   "source": [
    "Afficher les 5 premières lignes"
   ]
  },
  {
   "cell_type": "code",
   "execution_count": 13,
   "metadata": {},
   "outputs": [
    {
     "data": {
      "text/html": [
       "<div>\n",
       "<style scoped>\n",
       "    .dataframe tbody tr th:only-of-type {\n",
       "        vertical-align: middle;\n",
       "    }\n",
       "\n",
       "    .dataframe tbody tr th {\n",
       "        vertical-align: top;\n",
       "    }\n",
       "\n",
       "    .dataframe thead th {\n",
       "        text-align: right;\n",
       "    }\n",
       "</style>\n",
       "<table border=\"1\" class=\"dataframe\">\n",
       "  <thead>\n",
       "    <tr style=\"text-align: right;\">\n",
       "      <th></th>\n",
       "      <th>Num_Acc</th>\n",
       "      <th>date</th>\n",
       "      <th>an</th>\n",
       "      <th>mois</th>\n",
       "      <th>jour</th>\n",
       "      <th>hrmn</th>\n",
       "      <th>dep</th>\n",
       "      <th>com</th>\n",
       "      <th>lat</th>\n",
       "      <th>long</th>\n",
       "      <th>...</th>\n",
       "      <th>equipement</th>\n",
       "      <th>obs</th>\n",
       "      <th>obsm</th>\n",
       "      <th>choc</th>\n",
       "      <th>manv</th>\n",
       "      <th>vehiculeid</th>\n",
       "      <th>typevehicules</th>\n",
       "      <th>manoeuvehicules</th>\n",
       "      <th>numVehicules</th>\n",
       "      <th>_infos_commune.code_epci</th>\n",
       "    </tr>\n",
       "  </thead>\n",
       "  <tbody>\n",
       "    <tr>\n",
       "      <th>0</th>\n",
       "      <td>200500000030</td>\n",
       "      <td>2005-01-13</td>\n",
       "      <td>2005</td>\n",
       "      <td>janvier</td>\n",
       "      <td>jeudi</td>\n",
       "      <td>19:45</td>\n",
       "      <td>62</td>\n",
       "      <td>62331</td>\n",
       "      <td>50.30</td>\n",
       "      <td>2.84</td>\n",
       "      <td>...</td>\n",
       "      <td>0</td>\n",
       "      <td>0.0</td>\n",
       "      <td>2.0</td>\n",
       "      <td>8.0</td>\n",
       "      <td>11.0</td>\n",
       "      <td>200500000030B02</td>\n",
       "      <td>18</td>\n",
       "      <td>17</td>\n",
       "      <td>1.0</td>\n",
       "      <td>200033579.0</td>\n",
       "    </tr>\n",
       "    <tr>\n",
       "      <th>1</th>\n",
       "      <td>200500000034</td>\n",
       "      <td>2005-01-19</td>\n",
       "      <td>2005</td>\n",
       "      <td>janvier</td>\n",
       "      <td>mercredi</td>\n",
       "      <td>10:45</td>\n",
       "      <td>62</td>\n",
       "      <td>62022</td>\n",
       "      <td>0.00</td>\n",
       "      <td>0.00</td>\n",
       "      <td>...</td>\n",
       "      <td>0</td>\n",
       "      <td>0.0</td>\n",
       "      <td>2.0</td>\n",
       "      <td>1.0</td>\n",
       "      <td>1.0</td>\n",
       "      <td>200500000034B02</td>\n",
       "      <td>10</td>\n",
       "      <td>15</td>\n",
       "      <td>1.0</td>\n",
       "      <td>200018083.0</td>\n",
       "    </tr>\n",
       "    <tr>\n",
       "      <th>2</th>\n",
       "      <td>200500000078</td>\n",
       "      <td>2005-01-26</td>\n",
       "      <td>2005</td>\n",
       "      <td>janvier</td>\n",
       "      <td>mercredi</td>\n",
       "      <td>13:15</td>\n",
       "      <td>02</td>\n",
       "      <td>02173</td>\n",
       "      <td>0.00</td>\n",
       "      <td>0.00</td>\n",
       "      <td>...</td>\n",
       "      <td>2</td>\n",
       "      <td>0.0</td>\n",
       "      <td>2.0</td>\n",
       "      <td>1.0</td>\n",
       "      <td>1.0</td>\n",
       "      <td>200500000078B02</td>\n",
       "      <td>7</td>\n",
       "      <td>15</td>\n",
       "      <td>1.0</td>\n",
       "      <td>200071785.0</td>\n",
       "    </tr>\n",
       "    <tr>\n",
       "      <th>3</th>\n",
       "      <td>200500000093</td>\n",
       "      <td>2005-01-03</td>\n",
       "      <td>2005</td>\n",
       "      <td>janvier</td>\n",
       "      <td>lundi</td>\n",
       "      <td>13:30</td>\n",
       "      <td>02</td>\n",
       "      <td>02810</td>\n",
       "      <td>49.26</td>\n",
       "      <td>3.09</td>\n",
       "      <td>...</td>\n",
       "      <td>0</td>\n",
       "      <td>0.0</td>\n",
       "      <td>2.0</td>\n",
       "      <td>3.0</td>\n",
       "      <td>21.0</td>\n",
       "      <td>200500000093B02</td>\n",
       "      <td>7</td>\n",
       "      <td>21</td>\n",
       "      <td>1.0</td>\n",
       "      <td>200071991.0</td>\n",
       "    </tr>\n",
       "    <tr>\n",
       "      <th>4</th>\n",
       "      <td>200500000170</td>\n",
       "      <td>2005-01-29</td>\n",
       "      <td>2005</td>\n",
       "      <td>janvier</td>\n",
       "      <td>samedi</td>\n",
       "      <td>18:30</td>\n",
       "      <td>76</td>\n",
       "      <td>76196</td>\n",
       "      <td>0.00</td>\n",
       "      <td>0.00</td>\n",
       "      <td>...</td>\n",
       "      <td>9</td>\n",
       "      <td>0.0</td>\n",
       "      <td>2.0</td>\n",
       "      <td>4.0</td>\n",
       "      <td>2.0</td>\n",
       "      <td>200500000170A01</td>\n",
       "      <td>10</td>\n",
       "      <td>2</td>\n",
       "      <td>1.0</td>\n",
       "      <td>200084952.0</td>\n",
       "    </tr>\n",
       "  </tbody>\n",
       "</table>\n",
       "<p>5 rows × 40 columns</p>\n",
       "</div>"
      ],
      "text/plain": [
       "        Num_Acc        date    an     mois      jour   hrmn dep    com    lat  \\\n",
       "0  200500000030  2005-01-13  2005  janvier     jeudi  19:45  62  62331  50.30   \n",
       "1  200500000034  2005-01-19  2005  janvier  mercredi  10:45  62  62022   0.00   \n",
       "2  200500000078  2005-01-26  2005  janvier  mercredi  13:15  02  02173   0.00   \n",
       "3  200500000093  2005-01-03  2005  janvier     lundi  13:30  02  02810  49.26   \n",
       "4  200500000170  2005-01-29  2005  janvier    samedi  18:30  76  76196   0.00   \n",
       "\n",
       "   long  ...  equipement  obs  obsm  choc  manv       vehiculeid  \\\n",
       "0  2.84  ...           0  0.0   2.0   8.0  11.0  200500000030B02   \n",
       "1  0.00  ...           0  0.0   2.0   1.0   1.0  200500000034B02   \n",
       "2  0.00  ...           2  0.0   2.0   1.0   1.0  200500000078B02   \n",
       "3  3.09  ...           0  0.0   2.0   3.0  21.0  200500000093B02   \n",
       "4  0.00  ...           9  0.0   2.0   4.0   2.0  200500000170A01   \n",
       "\n",
       "   typevehicules  manoeuvehicules  numVehicules  _infos_commune.code_epci  \n",
       "0             18               17           1.0               200033579.0  \n",
       "1             10               15           1.0               200018083.0  \n",
       "2              7               15           1.0               200071785.0  \n",
       "3              7               21           1.0               200071991.0  \n",
       "4             10                2           1.0               200084952.0  \n",
       "\n",
       "[5 rows x 40 columns]"
      ]
     },
     "execution_count": 13,
     "metadata": {},
     "output_type": "execute_result"
    }
   ],
   "source": [
    "df.head(5).round(2)"
   ]
  },
  {
   "cell_type": "markdown",
   "metadata": {},
   "source": [
    "Afficher les 5 dernières lignes"
   ]
  },
  {
   "cell_type": "code",
   "execution_count": 14,
   "metadata": {},
   "outputs": [
    {
     "data": {
      "text/html": [
       "<div>\n",
       "<style scoped>\n",
       "    .dataframe tbody tr th:only-of-type {\n",
       "        vertical-align: middle;\n",
       "    }\n",
       "\n",
       "    .dataframe tbody tr th {\n",
       "        vertical-align: top;\n",
       "    }\n",
       "\n",
       "    .dataframe thead th {\n",
       "        text-align: right;\n",
       "    }\n",
       "</style>\n",
       "<table border=\"1\" class=\"dataframe\">\n",
       "  <thead>\n",
       "    <tr style=\"text-align: right;\">\n",
       "      <th></th>\n",
       "      <th>Num_Acc</th>\n",
       "      <th>date</th>\n",
       "      <th>an</th>\n",
       "      <th>mois</th>\n",
       "      <th>jour</th>\n",
       "      <th>hrmn</th>\n",
       "      <th>dep</th>\n",
       "      <th>com</th>\n",
       "      <th>lat</th>\n",
       "      <th>long</th>\n",
       "      <th>...</th>\n",
       "      <th>equipement</th>\n",
       "      <th>obs</th>\n",
       "      <th>obsm</th>\n",
       "      <th>choc</th>\n",
       "      <th>manv</th>\n",
       "      <th>vehiculeid</th>\n",
       "      <th>typevehicules</th>\n",
       "      <th>manoeuvehicules</th>\n",
       "      <th>numVehicules</th>\n",
       "      <th>_infos_commune.code_epci</th>\n",
       "    </tr>\n",
       "  </thead>\n",
       "  <tbody>\n",
       "    <tr>\n",
       "      <th>74753</th>\n",
       "      <td>202100056317</td>\n",
       "      <td>2021-01-02</td>\n",
       "      <td>2021</td>\n",
       "      <td>janvier</td>\n",
       "      <td>samedi</td>\n",
       "      <td>18:30</td>\n",
       "      <td>44</td>\n",
       "      <td>44168</td>\n",
       "      <td>47.38</td>\n",
       "      <td>-2.20</td>\n",
       "      <td>...</td>\n",
       "      <td>NaN</td>\n",
       "      <td>0.0</td>\n",
       "      <td>0.0</td>\n",
       "      <td>8.0</td>\n",
       "      <td>1.0</td>\n",
       "      <td>202100056317B01</td>\n",
       "      <td>7</td>\n",
       "      <td>14</td>\n",
       "      <td>1.0</td>\n",
       "      <td>244400644.0</td>\n",
       "    </tr>\n",
       "    <tr>\n",
       "      <th>74754</th>\n",
       "      <td>202100056362</td>\n",
       "      <td>2021-01-04</td>\n",
       "      <td>2021</td>\n",
       "      <td>janvier</td>\n",
       "      <td>lundi</td>\n",
       "      <td>08:20</td>\n",
       "      <td>64</td>\n",
       "      <td>64138</td>\n",
       "      <td>43.23</td>\n",
       "      <td>-0.28</td>\n",
       "      <td>...</td>\n",
       "      <td>2</td>\n",
       "      <td>0.0</td>\n",
       "      <td>2.0</td>\n",
       "      <td>0.0</td>\n",
       "      <td>1.0</td>\n",
       "      <td>202100056362B01</td>\n",
       "      <td>7</td>\n",
       "      <td>15</td>\n",
       "      <td>1.0</td>\n",
       "      <td>246401756.0</td>\n",
       "    </tr>\n",
       "    <tr>\n",
       "      <th>74755</th>\n",
       "      <td>202100056404</td>\n",
       "      <td>2021-01-01</td>\n",
       "      <td>2021</td>\n",
       "      <td>janvier</td>\n",
       "      <td>vendredi</td>\n",
       "      <td>16:55</td>\n",
       "      <td>54</td>\n",
       "      <td>54395</td>\n",
       "      <td>48.68</td>\n",
       "      <td>6.18</td>\n",
       "      <td>...</td>\n",
       "      <td>2</td>\n",
       "      <td>0.0</td>\n",
       "      <td>2.0</td>\n",
       "      <td>1.0</td>\n",
       "      <td>25.0</td>\n",
       "      <td>202100056404A01</td>\n",
       "      <td>7</td>\n",
       "      <td>1</td>\n",
       "      <td>1.0</td>\n",
       "      <td>245400676.0</td>\n",
       "    </tr>\n",
       "    <tr>\n",
       "      <th>74756</th>\n",
       "      <td>202100056424</td>\n",
       "      <td>2021-01-02</td>\n",
       "      <td>2021</td>\n",
       "      <td>janvier</td>\n",
       "      <td>samedi</td>\n",
       "      <td>15:40</td>\n",
       "      <td>75</td>\n",
       "      <td>75110</td>\n",
       "      <td>48.88</td>\n",
       "      <td>2.37</td>\n",
       "      <td>...</td>\n",
       "      <td>NaN</td>\n",
       "      <td>0.0</td>\n",
       "      <td>2.0</td>\n",
       "      <td>1.0</td>\n",
       "      <td>1.0</td>\n",
       "      <td>202100056424A01</td>\n",
       "      <td>7</td>\n",
       "      <td>9</td>\n",
       "      <td>1.0</td>\n",
       "      <td>200054781.0</td>\n",
       "    </tr>\n",
       "    <tr>\n",
       "      <th>74757</th>\n",
       "      <td>202100056508</td>\n",
       "      <td>2021-01-01</td>\n",
       "      <td>2021</td>\n",
       "      <td>janvier</td>\n",
       "      <td>vendredi</td>\n",
       "      <td>12:20</td>\n",
       "      <td>64</td>\n",
       "      <td>64400</td>\n",
       "      <td>43.15</td>\n",
       "      <td>-0.20</td>\n",
       "      <td>...</td>\n",
       "      <td>2/6</td>\n",
       "      <td>0.0</td>\n",
       "      <td>0.0</td>\n",
       "      <td>8.0</td>\n",
       "      <td>1.0</td>\n",
       "      <td>202100056508A01</td>\n",
       "      <td>NaN</td>\n",
       "      <td>NaN</td>\n",
       "      <td>NaN</td>\n",
       "      <td>246401756.0</td>\n",
       "    </tr>\n",
       "  </tbody>\n",
       "</table>\n",
       "<p>5 rows × 40 columns</p>\n",
       "</div>"
      ],
      "text/plain": [
       "            Num_Acc        date    an     mois      jour   hrmn dep    com  \\\n",
       "74753  202100056317  2021-01-02  2021  janvier    samedi  18:30  44  44168   \n",
       "74754  202100056362  2021-01-04  2021  janvier     lundi  08:20  64  64138   \n",
       "74755  202100056404  2021-01-01  2021  janvier  vendredi  16:55  54  54395   \n",
       "74756  202100056424  2021-01-02  2021  janvier    samedi  15:40  75  75110   \n",
       "74757  202100056508  2021-01-01  2021  janvier  vendredi  12:20  64  64400   \n",
       "\n",
       "         lat  long  ...  equipement  obs  obsm  choc  manv       vehiculeid  \\\n",
       "74753  47.38 -2.20  ...         NaN  0.0   0.0   8.0   1.0  202100056317B01   \n",
       "74754  43.23 -0.28  ...           2  0.0   2.0   0.0   1.0  202100056362B01   \n",
       "74755  48.68  6.18  ...           2  0.0   2.0   1.0  25.0  202100056404A01   \n",
       "74756  48.88  2.37  ...         NaN  0.0   2.0   1.0   1.0  202100056424A01   \n",
       "74757  43.15 -0.20  ...         2/6  0.0   0.0   8.0   1.0  202100056508A01   \n",
       "\n",
       "       typevehicules  manoeuvehicules  numVehicules  _infos_commune.code_epci  \n",
       "74753              7               14           1.0               244400644.0  \n",
       "74754              7               15           1.0               246401756.0  \n",
       "74755              7                1           1.0               245400676.0  \n",
       "74756              7                9           1.0               200054781.0  \n",
       "74757            NaN              NaN           NaN               246401756.0  \n",
       "\n",
       "[5 rows x 40 columns]"
      ]
     },
     "execution_count": 14,
     "metadata": {},
     "output_type": "execute_result"
    }
   ],
   "source": [
    "df.tail(5).round(2)"
   ]
  },
  {
   "cell_type": "markdown",
   "metadata": {},
   "source": [
    "Afficher quelques informations générales sur les données"
   ]
  },
  {
   "cell_type": "code",
   "execution_count": 16,
   "metadata": {},
   "outputs": [
    {
     "name": "stdout",
     "output_type": "stream",
     "text": [
      "<class 'pandas.core.frame.DataFrame'>\n",
      "RangeIndex: 74758 entries, 0 to 74757\n",
      "Data columns (total 40 columns):\n",
      " #   Column                    Non-Null Count  Dtype  \n",
      "---  ------                    --------------  -----  \n",
      " 0   Num_Acc                   74758 non-null  int64  \n",
      " 1   date                      74758 non-null  object \n",
      " 2   an                        74758 non-null  int64  \n",
      " 3   mois                      74758 non-null  object \n",
      " 4   jour                      74758 non-null  object \n",
      " 5   hrmn                      74758 non-null  object \n",
      " 6   dep                       74758 non-null  object \n",
      " 7   com                       74758 non-null  object \n",
      " 8   lat                       74758 non-null  float64\n",
      " 9   long                      74490 non-null  float64\n",
      " 10  agg                       74758 non-null  int64  \n",
      " 11  int                       74758 non-null  int64  \n",
      " 12  col                       74754 non-null  float64\n",
      " 13  lum                       74758 non-null  int64  \n",
      " 14  atm                       74755 non-null  float64\n",
      " 15  catr                      74758 non-null  int64  \n",
      " 16  circ                      74615 non-null  float64\n",
      " 17  nbv                       74561 non-null  float64\n",
      " 18  prof                      74581 non-null  float64\n",
      " 19  plan                      74558 non-null  float64\n",
      " 20  lartpc                    63786 non-null  float64\n",
      " 21  larrout                   69666 non-null  float64\n",
      " 22  surf                      74584 non-null  float64\n",
      " 23  infra                     74222 non-null  float64\n",
      " 24  situ                      74264 non-null  float64\n",
      " 25  grav                      74758 non-null  int64  \n",
      " 26  sexe                      74758 non-null  int64  \n",
      " 27  age                       74732 non-null  float64\n",
      " 28  trajet                    74755 non-null  float64\n",
      " 29  secuexist                 74758 non-null  int64  \n",
      " 30  equipement                71017 non-null  object \n",
      " 31  obs                       74732 non-null  float64\n",
      " 32  obsm                      74717 non-null  float64\n",
      " 33  choc                      74746 non-null  float64\n",
      " 34  manv                      74742 non-null  float64\n",
      " 35  vehiculeid                74758 non-null  object \n",
      " 36  typevehicules             64465 non-null  object \n",
      " 37  manoeuvehicules           64448 non-null  object \n",
      " 38  numVehicules              64465 non-null  float64\n",
      " 39  _infos_commune.code_epci  72648 non-null  float64\n",
      "dtypes: float64(21), int64(9), object(10)\n",
      "memory usage: 22.8+ MB\n"
     ]
    }
   ],
   "source": [
    "df.info()"
   ]
  },
  {
   "cell_type": "code",
   "execution_count": 7,
   "metadata": {},
   "outputs": [
    {
     "data": {
      "text/plain": [
       "Num_Acc                       int64\n",
       "date                         object\n",
       "an                            int64\n",
       "mois                         object\n",
       "jour                         object\n",
       "hrmn                         object\n",
       "dep                          object\n",
       "com                          object\n",
       "lat                         float64\n",
       "long                        float64\n",
       "agg                           int64\n",
       "int                           int64\n",
       "col                         float64\n",
       "lum                           int64\n",
       "atm                         float64\n",
       "catr                          int64\n",
       "circ                        float64\n",
       "nbv                         float64\n",
       "prof                        float64\n",
       "plan                        float64\n",
       "lartpc                      float64\n",
       "larrout                     float64\n",
       "surf                        float64\n",
       "infra                       float64\n",
       "situ                        float64\n",
       "grav                          int64\n",
       "sexe                          int64\n",
       "age                         float64\n",
       "trajet                      float64\n",
       "secuexist                     int64\n",
       "equipement                   object\n",
       "obs                         float64\n",
       "obsm                        float64\n",
       "choc                        float64\n",
       "manv                        float64\n",
       "vehiculeid                   object\n",
       "typevehicules                object\n",
       "manoeuvehicules              object\n",
       "numVehicules                float64\n",
       "_infos_commune.code_epci    float64\n",
       "dtype: object"
      ]
     },
     "execution_count": 7,
     "metadata": {},
     "output_type": "execute_result"
    }
   ],
   "source": [
    "df.dtypes"
   ]
  },
  {
   "cell_type": "markdown",
   "metadata": {},
   "source": [
    "Afficher un résumé statistique des colonnes numériques"
   ]
  },
  {
   "cell_type": "markdown",
   "metadata": {},
   "source": [
    "<span style=\"color: green\">À faire : analyser chaque variable pour ensuite ne garder que les colonnes pertinentes ici</span>"
   ]
  },
  {
   "cell_type": "code",
   "execution_count": 10,
   "metadata": {},
   "outputs": [
    {
     "data": {
      "text/html": [
       "<div>\n",
       "<style scoped>\n",
       "    .dataframe tbody tr th:only-of-type {\n",
       "        vertical-align: middle;\n",
       "    }\n",
       "\n",
       "    .dataframe tbody tr th {\n",
       "        vertical-align: top;\n",
       "    }\n",
       "\n",
       "    .dataframe thead th {\n",
       "        text-align: right;\n",
       "    }\n",
       "</style>\n",
       "<table border=\"1\" class=\"dataframe\">\n",
       "  <thead>\n",
       "    <tr style=\"text-align: right;\">\n",
       "      <th></th>\n",
       "      <th>Num_Acc</th>\n",
       "      <th>an</th>\n",
       "      <th>lat</th>\n",
       "      <th>long</th>\n",
       "      <th>agg</th>\n",
       "      <th>int</th>\n",
       "      <th>col</th>\n",
       "      <th>lum</th>\n",
       "      <th>atm</th>\n",
       "      <th>catr</th>\n",
       "      <th>...</th>\n",
       "      <th>sexe</th>\n",
       "      <th>age</th>\n",
       "      <th>trajet</th>\n",
       "      <th>secuexist</th>\n",
       "      <th>obs</th>\n",
       "      <th>obsm</th>\n",
       "      <th>choc</th>\n",
       "      <th>manv</th>\n",
       "      <th>numVehicules</th>\n",
       "      <th>_infos_commune.code_epci</th>\n",
       "    </tr>\n",
       "  </thead>\n",
       "  <tbody>\n",
       "    <tr>\n",
       "      <th>count</th>\n",
       "      <td>7.475800e+04</td>\n",
       "      <td>74758.00</td>\n",
       "      <td>74758.00</td>\n",
       "      <td>74490.00</td>\n",
       "      <td>74758.00</td>\n",
       "      <td>74758.00</td>\n",
       "      <td>74754.00</td>\n",
       "      <td>74758.00</td>\n",
       "      <td>74755.00</td>\n",
       "      <td>74758.00</td>\n",
       "      <td>...</td>\n",
       "      <td>74758.00</td>\n",
       "      <td>74732.00</td>\n",
       "      <td>74755.00</td>\n",
       "      <td>74758.00</td>\n",
       "      <td>74732.00</td>\n",
       "      <td>74717.00</td>\n",
       "      <td>74746.00</td>\n",
       "      <td>74742.00</td>\n",
       "      <td>64465.00</td>\n",
       "      <td>7.264800e+04</td>\n",
       "    </tr>\n",
       "    <tr>\n",
       "      <th>mean</th>\n",
       "      <td>2.012155e+11</td>\n",
       "      <td>2012.16</td>\n",
       "      <td>19.39</td>\n",
       "      <td>0.88</td>\n",
       "      <td>1.82</td>\n",
       "      <td>2.11</td>\n",
       "      <td>3.50</td>\n",
       "      <td>1.54</td>\n",
       "      <td>1.45</td>\n",
       "      <td>3.80</td>\n",
       "      <td>...</td>\n",
       "      <td>1.24</td>\n",
       "      <td>39.72</td>\n",
       "      <td>3.50</td>\n",
       "      <td>2.14</td>\n",
       "      <td>0.40</td>\n",
       "      <td>1.64</td>\n",
       "      <td>2.82</td>\n",
       "      <td>5.37</td>\n",
       "      <td>1.02</td>\n",
       "      <td>2.164169e+08</td>\n",
       "    </tr>\n",
       "    <tr>\n",
       "      <th>std</th>\n",
       "      <td>4.702944e+08</td>\n",
       "      <td>4.70</td>\n",
       "      <td>23.30</td>\n",
       "      <td>6.72</td>\n",
       "      <td>0.38</td>\n",
       "      <td>1.80</td>\n",
       "      <td>1.78</td>\n",
       "      <td>1.27</td>\n",
       "      <td>1.51</td>\n",
       "      <td>1.04</td>\n",
       "      <td>...</td>\n",
       "      <td>0.43</td>\n",
       "      <td>45.54</td>\n",
       "      <td>2.54</td>\n",
       "      <td>0.86</td>\n",
       "      <td>2.11</td>\n",
       "      <td>1.16</td>\n",
       "      <td>2.79</td>\n",
       "      <td>7.03</td>\n",
       "      <td>0.18</td>\n",
       "      <td>2.170030e+07</td>\n",
       "    </tr>\n",
       "    <tr>\n",
       "      <th>min</th>\n",
       "      <td>2.005000e+11</td>\n",
       "      <td>2005.00</td>\n",
       "      <td>-23.87</td>\n",
       "      <td>-151.76</td>\n",
       "      <td>1.00</td>\n",
       "      <td>0.00</td>\n",
       "      <td>-1.00</td>\n",
       "      <td>1.00</td>\n",
       "      <td>1.00</td>\n",
       "      <td>1.00</td>\n",
       "      <td>...</td>\n",
       "      <td>-1.00</td>\n",
       "      <td>1.00</td>\n",
       "      <td>-1.00</td>\n",
       "      <td>0.00</td>\n",
       "      <td>-1.00</td>\n",
       "      <td>-1.00</td>\n",
       "      <td>-1.00</td>\n",
       "      <td>-1.00</td>\n",
       "      <td>1.00</td>\n",
       "      <td>2.000002e+08</td>\n",
       "    </tr>\n",
       "    <tr>\n",
       "      <th>25%</th>\n",
       "      <td>2.008000e+11</td>\n",
       "      <td>2008.00</td>\n",
       "      <td>0.00</td>\n",
       "      <td>0.00</td>\n",
       "      <td>2.00</td>\n",
       "      <td>1.00</td>\n",
       "      <td>3.00</td>\n",
       "      <td>1.00</td>\n",
       "      <td>1.00</td>\n",
       "      <td>3.00</td>\n",
       "      <td>...</td>\n",
       "      <td>1.00</td>\n",
       "      <td>21.00</td>\n",
       "      <td>1.00</td>\n",
       "      <td>1.00</td>\n",
       "      <td>0.00</td>\n",
       "      <td>1.00</td>\n",
       "      <td>1.00</td>\n",
       "      <td>1.00</td>\n",
       "      <td>1.00</td>\n",
       "      <td>2.000548e+08</td>\n",
       "    </tr>\n",
       "    <tr>\n",
       "      <th>50%</th>\n",
       "      <td>2.012000e+11</td>\n",
       "      <td>2012.00</td>\n",
       "      <td>0.00</td>\n",
       "      <td>0.00</td>\n",
       "      <td>2.00</td>\n",
       "      <td>1.00</td>\n",
       "      <td>3.00</td>\n",
       "      <td>1.00</td>\n",
       "      <td>1.00</td>\n",
       "      <td>4.00</td>\n",
       "      <td>...</td>\n",
       "      <td>1.00</td>\n",
       "      <td>37.00</td>\n",
       "      <td>5.00</td>\n",
       "      <td>2.00</td>\n",
       "      <td>0.00</td>\n",
       "      <td>2.00</td>\n",
       "      <td>1.00</td>\n",
       "      <td>1.00</td>\n",
       "      <td>1.00</td>\n",
       "      <td>2.000680e+08</td>\n",
       "    </tr>\n",
       "    <tr>\n",
       "      <th>75%</th>\n",
       "      <td>2.016000e+11</td>\n",
       "      <td>2016.00</td>\n",
       "      <td>47.20</td>\n",
       "      <td>2.23</td>\n",
       "      <td>2.00</td>\n",
       "      <td>3.00</td>\n",
       "      <td>5.00</td>\n",
       "      <td>1.00</td>\n",
       "      <td>1.00</td>\n",
       "      <td>4.00</td>\n",
       "      <td>...</td>\n",
       "      <td>1.00</td>\n",
       "      <td>55.00</td>\n",
       "      <td>5.00</td>\n",
       "      <td>3.00</td>\n",
       "      <td>0.00</td>\n",
       "      <td>2.00</td>\n",
       "      <td>4.00</td>\n",
       "      <td>11.00</td>\n",
       "      <td>1.00</td>\n",
       "      <td>2.434000e+08</td>\n",
       "    </tr>\n",
       "    <tr>\n",
       "      <th>max</th>\n",
       "      <td>2.021001e+11</td>\n",
       "      <td>2021.00</td>\n",
       "      <td>51.07</td>\n",
       "      <td>167.13</td>\n",
       "      <td>2.00</td>\n",
       "      <td>9.00</td>\n",
       "      <td>7.00</td>\n",
       "      <td>5.00</td>\n",
       "      <td>9.00</td>\n",
       "      <td>9.00</td>\n",
       "      <td>...</td>\n",
       "      <td>2.00</td>\n",
       "      <td>2021.00</td>\n",
       "      <td>9.00</td>\n",
       "      <td>3.00</td>\n",
       "      <td>17.00</td>\n",
       "      <td>9.00</td>\n",
       "      <td>9.00</td>\n",
       "      <td>26.00</td>\n",
       "      <td>5.00</td>\n",
       "      <td>2.497401e+08</td>\n",
       "    </tr>\n",
       "  </tbody>\n",
       "</table>\n",
       "<p>8 rows × 30 columns</p>\n",
       "</div>"
      ],
      "text/plain": [
       "            Num_Acc        an       lat      long       agg       int  \\\n",
       "count  7.475800e+04  74758.00  74758.00  74490.00  74758.00  74758.00   \n",
       "mean   2.012155e+11   2012.16     19.39      0.88      1.82      2.11   \n",
       "std    4.702944e+08      4.70     23.30      6.72      0.38      1.80   \n",
       "min    2.005000e+11   2005.00    -23.87   -151.76      1.00      0.00   \n",
       "25%    2.008000e+11   2008.00      0.00      0.00      2.00      1.00   \n",
       "50%    2.012000e+11   2012.00      0.00      0.00      2.00      1.00   \n",
       "75%    2.016000e+11   2016.00     47.20      2.23      2.00      3.00   \n",
       "max    2.021001e+11   2021.00     51.07    167.13      2.00      9.00   \n",
       "\n",
       "            col       lum       atm      catr  ...      sexe       age  \\\n",
       "count  74754.00  74758.00  74755.00  74758.00  ...  74758.00  74732.00   \n",
       "mean       3.50      1.54      1.45      3.80  ...      1.24     39.72   \n",
       "std        1.78      1.27      1.51      1.04  ...      0.43     45.54   \n",
       "min       -1.00      1.00      1.00      1.00  ...     -1.00      1.00   \n",
       "25%        3.00      1.00      1.00      3.00  ...      1.00     21.00   \n",
       "50%        3.00      1.00      1.00      4.00  ...      1.00     37.00   \n",
       "75%        5.00      1.00      1.00      4.00  ...      1.00     55.00   \n",
       "max        7.00      5.00      9.00      9.00  ...      2.00   2021.00   \n",
       "\n",
       "         trajet  secuexist       obs      obsm      choc      manv  \\\n",
       "count  74755.00   74758.00  74732.00  74717.00  74746.00  74742.00   \n",
       "mean       3.50       2.14      0.40      1.64      2.82      5.37   \n",
       "std        2.54       0.86      2.11      1.16      2.79      7.03   \n",
       "min       -1.00       0.00     -1.00     -1.00     -1.00     -1.00   \n",
       "25%        1.00       1.00      0.00      1.00      1.00      1.00   \n",
       "50%        5.00       2.00      0.00      2.00      1.00      1.00   \n",
       "75%        5.00       3.00      0.00      2.00      4.00     11.00   \n",
       "max        9.00       3.00     17.00      9.00      9.00     26.00   \n",
       "\n",
       "       numVehicules  _infos_commune.code_epci  \n",
       "count      64465.00              7.264800e+04  \n",
       "mean           1.02              2.164169e+08  \n",
       "std            0.18              2.170030e+07  \n",
       "min            1.00              2.000002e+08  \n",
       "25%            1.00              2.000548e+08  \n",
       "50%            1.00              2.000680e+08  \n",
       "75%            1.00              2.434000e+08  \n",
       "max            5.00              2.497401e+08  \n",
       "\n",
       "[8 rows x 30 columns]"
      ]
     },
     "execution_count": 10,
     "metadata": {},
     "output_type": "execute_result"
    }
   ],
   "source": [
    "df.describe().round(2)"
   ]
  },
  {
   "cell_type": "markdown",
   "metadata": {},
   "source": [
    "Afficher un aperçu des valeurs manquantes"
   ]
  },
  {
   "cell_type": "code",
   "execution_count": 21,
   "metadata": {},
   "outputs": [
    {
     "data": {
      "text/plain": [
       "Num_Acc                         0\n",
       "date                            0\n",
       "an                              0\n",
       "mois                            0\n",
       "jour                            0\n",
       "hrmn                            0\n",
       "dep                             0\n",
       "com                             0\n",
       "lat                             0\n",
       "long                          268\n",
       "agg                             0\n",
       "int                             0\n",
       "col                             4\n",
       "lum                             0\n",
       "atm                             3\n",
       "catr                            0\n",
       "circ                          143\n",
       "nbv                           197\n",
       "prof                          177\n",
       "plan                          200\n",
       "lartpc                      10972\n",
       "larrout                      5092\n",
       "surf                          174\n",
       "infra                         536\n",
       "situ                          494\n",
       "grav                            0\n",
       "sexe                            0\n",
       "age                            26\n",
       "trajet                          3\n",
       "secuexist                       0\n",
       "equipement                   3741\n",
       "obs                            26\n",
       "obsm                           41\n",
       "choc                           12\n",
       "manv                           16\n",
       "vehiculeid                      0\n",
       "typevehicules               10293\n",
       "manoeuvehicules             10310\n",
       "numVehicules                10293\n",
       "_infos_commune.code_epci     2110\n",
       "dtype: int64"
      ]
     },
     "execution_count": 21,
     "metadata": {},
     "output_type": "execute_result"
    }
   ],
   "source": [
    "df.isnull().sum()"
   ]
  },
  {
   "cell_type": "markdown",
   "metadata": {},
   "source": [
    "# 4. Analyse univariée"
   ]
  },
  {
   "cell_type": "markdown",
   "metadata": {},
   "source": [
    "Afficher les histogrammes des variables"
   ]
  },
  {
   "cell_type": "code",
   "execution_count": 22,
   "metadata": {},
   "outputs": [
    {
     "data": {
      "text/plain": [
       "array([[<Axes: title={'center': 'Num_Acc'}>,\n",
       "        <Axes: title={'center': 'an'}>, <Axes: title={'center': 'lat'}>,\n",
       "        <Axes: title={'center': 'long'}>,\n",
       "        <Axes: title={'center': 'agg'}>],\n",
       "       [<Axes: title={'center': 'int'}>, <Axes: title={'center': 'col'}>,\n",
       "        <Axes: title={'center': 'lum'}>, <Axes: title={'center': 'atm'}>,\n",
       "        <Axes: title={'center': 'catr'}>],\n",
       "       [<Axes: title={'center': 'circ'}>,\n",
       "        <Axes: title={'center': 'nbv'}>,\n",
       "        <Axes: title={'center': 'prof'}>,\n",
       "        <Axes: title={'center': 'plan'}>,\n",
       "        <Axes: title={'center': 'lartpc'}>],\n",
       "       [<Axes: title={'center': 'larrout'}>,\n",
       "        <Axes: title={'center': 'surf'}>,\n",
       "        <Axes: title={'center': 'infra'}>,\n",
       "        <Axes: title={'center': 'situ'}>,\n",
       "        <Axes: title={'center': 'grav'}>],\n",
       "       [<Axes: title={'center': 'sexe'}>,\n",
       "        <Axes: title={'center': 'age'}>,\n",
       "        <Axes: title={'center': 'trajet'}>,\n",
       "        <Axes: title={'center': 'secuexist'}>,\n",
       "        <Axes: title={'center': 'obs'}>],\n",
       "       [<Axes: title={'center': 'obsm'}>,\n",
       "        <Axes: title={'center': 'choc'}>,\n",
       "        <Axes: title={'center': 'manv'}>,\n",
       "        <Axes: title={'center': 'numVehicules'}>,\n",
       "        <Axes: title={'center': '_infos_commune.code_epci'}>]],\n",
       "      dtype=object)"
      ]
     },
     "execution_count": 22,
     "metadata": {},
     "output_type": "execute_result"
    },
    {
     "data": {
      "image/png": "[encoded data removed]",
      "text/plain": [
       "<Figure size 640x480 with 30 Axes>"
      ]
     },
     "metadata": {},
     "output_type": "display_data"
    }
   ],
   "source": [
    "df.hist()"
   ]
  },
  {
   "cell_type": "code",
   "execution_count": 91,
   "metadata": {},
   "outputs": [
    {
     "data": {
      "image/png": "[encoded data removed]",
      "text/plain": [
       "<Figure size 640x480 with 1 Axes>"
      ]
     },
     "metadata": {},
     "output_type": "display_data"
    }
   ],
   "source": [
    "df['an'].hist()\n",
    "plt.title(\"Distribution des accidents de vélo par année\")\n",
    "plt.xlabel(\"Année\")\n",
    "plt.ylabel(\"Nombre d'accidents\")\n",
    "plt.show()"
   ]
  },
  {
   "cell_type": "code",
   "execution_count": 97,
   "metadata": {},
   "outputs": [
    {
     "name": "stderr",
     "output_type": "stream",
     "text": [
      "C:\\Users\\Anaïs\\AppData\\Local\\Temp\\ipykernel_23276\\2195749675.py:5: SettingWithCopyWarning: \n",
      "A value is trying to be set on a copy of a slice from a DataFrame.\n",
      "Try using .loc[row_indexer,col_indexer] = value instead\n",
      "\n",
      "See the caveats in the documentation: https://pandas.pydata.org/pandas-docs/stable/user_guide/indexing.html#returning-a-view-versus-a-copy\n",
      "  df_filtered['sexe'] = df_filtered['sexe'].replace({1: 'Hommes', 2: 'Femmes'})\n"
     ]
    },
    {
     "data": {
      "image/png": "[encoded data removed]",
      "text/plain": [
       "<Figure size 640x480 with 1 Axes>"
      ]
     },
     "metadata": {},
     "output_type": "display_data"
    }
   ],
   "source": [
    "# Exclure le sexe égal à -1\n",
    "df_filtered=df[df['sexe'].isin([1,2])]\n",
    "\n",
    "# Remplacement des valeurs par une chaîne de caractère (pour le côté esthétique)\n",
    "df_filtered['sexe'] = df_filtered['sexe'].replace({1: 'Hommes', 2: 'Femmes'})\n",
    "\n",
    "df_filtered['sexe'].value_counts().plot(kind='bar', color=['blue', 'pink'])\n",
    "plt.title(\"Distribution des accidents de vélo selon le sexe de l'usager\")\n",
    "plt.xlabel(\"Sexe\")\n",
    "plt.ylabel(\"Nombre d'accidents\")\n",
    "plt.show()"
   ]
  },
  {
   "cell_type": "code",
   "execution_count": 99,
   "metadata": {},
   "outputs": [
    {
     "name": "stderr",
     "output_type": "stream",
     "text": [
      "C:\\Users\\Anaïs\\AppData\\Local\\Temp\\ipykernel_23276\\1894660078.py:2: SettingWithCopyWarning: \n",
      "A value is trying to be set on a copy of a slice from a DataFrame.\n",
      "Try using .loc[row_indexer,col_indexer] = value instead\n",
      "\n",
      "See the caveats in the documentation: https://pandas.pydata.org/pandas-docs/stable/user_guide/indexing.html#returning-a-view-versus-a-copy\n",
      "  df_filtered['agg'] = df_filtered['agg'].replace({1: 'Hors agglomération', 2: 'En agglomération'})\n"
     ]
    },
    {
     "data": {
      "image/png": "[encoded data removed]",
      "text/plain": [
       "<Figure size 640x480 with 1 Axes>"
      ]
     },
     "metadata": {},
     "output_type": "display_data"
    }
   ],
   "source": [
    "# Remplacement des valeurs une chaîne de caractère (pour le côté esthétique)\n",
    "df_filtered['agg'] = df_filtered['agg'].replace({1: 'Hors agglomération', 2: 'En agglomération'})\n",
    "df_filtered['agg'].value_counts().plot(kind='bar')\n",
    "plt.title(\"Distribution des accidents de vélo selon la localisation\")\n",
    "plt.xlabel(\"Localisation\")\n",
    "plt.ylabel(\"Nombre d'accidents\")\n",
    "plt.show()"
   ]
  },
  {
   "cell_type": "code",
   "execution_count": 92,
   "metadata": {},
   "outputs": [
    {
     "name": "stderr",
     "output_type": "stream",
     "text": [
      "C:\\Users\\Anaïs\\AppData\\Local\\Temp\\ipykernel_23276\\3355965324.py:2: SettingWithCopyWarning: \n",
      "A value is trying to be set on a copy of a slice from a DataFrame.\n",
      "Try using .loc[row_indexer,col_indexer] = value instead\n",
      "\n",
      "See the caveats in the documentation: https://pandas.pydata.org/pandas-docs/stable/user_guide/indexing.html#returning-a-view-versus-a-copy\n",
      "  df_filtered['lum'] = df_filtered['lum'].replace({1: 'Plein jour', 2: 'Crépuscule ou aube', 3: 'Nuit sans éclairage public', 4: 'Nuit avec éclairage public non allumé', 5: 'Nuit avec éclairage public allumé'})\n"
     ]
    },
    {
     "data": {
      "image/png": "[encoded data removed]",
      "text/plain": [
       "<Figure size 640x480 with 1 Axes>"
      ]
     },
     "metadata": {},
     "output_type": "display_data"
    }
   ],
   "source": [
    "# Remplacement des valeurs une chaîne de caractère (pour le côté esthétique)\n",
    "df_filtered['lum'] = df_filtered['lum'].replace({1: 'Plein jour', 2: 'Crépuscule ou aube', 3: 'Nuit sans éclairage public', 4: 'Nuit avec éclairage public non allumé', 5: 'Nuit avec éclairage public allumé'})\n",
    "\n",
    "df_filtered['lum'].value_counts().plot(kind='bar')\n",
    "plt.title(\"Distribution des accidents de vélo selon les conditions d'éclairage\")\n",
    "plt.xlabel(\"Condition d'éclairage\")\n",
    "plt.ylabel(\"Nombre d'accidents\")\n",
    "plt.show()"
   ]
  },
  {
   "cell_type": "markdown",
   "metadata": {},
   "source": [
    "# 5. Analyse bivariée"
   ]
  }
 ],
 "metadata": {
  "kernelspec": {
   "display_name": "Python 3",
   "language": "python",
   "name": "python3"
  },
  "language_info": {
   "codemirror_mode": {
    "name": "ipython",
    "version": 3
   },
   "file_extension": ".py",
   "mimetype": "text/x-python",
   "name": "python",
   "nbconvert_exporter": "python",
   "pygments_lexer": "ipython3",
   "version": "3.13.2"
  }
 },
 "nbformat": 4,
 "nbformat_minor": 2
}
