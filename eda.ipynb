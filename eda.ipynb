{
 "cells": [
  {
   "cell_type": "markdown",
   "metadata": {},
   "source": [
    "EDA Steps"
   ]
  },
  {
   "cell_type": "code",
   "execution_count": 2,
   "metadata": {},
   "outputs": [
    {
     "name": "stdout",
     "output_type": "stream",
     "text": [
      "Test\n"
     ]
    }
   ],
   "source": [
    "print(\"Test\")"
   ]
  },
  {
   "cell_type": "markdown",
   "metadata": {},
   "source": [
    "Importation des librairies"
   ]
  },
  {
   "cell_type": "code",
   "execution_count": 4,
   "metadata": {},
   "outputs": [],
   "source": [
    "import pandas as pd"
   ]
  },
  {
   "cell_type": "markdown",
   "metadata": {},
   "source": [
    "Chargement des données"
   ]
  },
  {
   "cell_type": "code",
   "execution_count": 7,
   "metadata": {},
   "outputs": [
    {
     "name": "stderr",
     "output_type": "stream",
     "text": [
      "C:\\Users\\anais\\AppData\\Local\\Temp\\ipykernel_20432\\105173937.py:1: DtypeWarning: Columns (30) have mixed types. Specify dtype option on import or set low_memory=False.\n",
      "  df = pd.read_csv(\"bicycle_accident.csv\")\n"
     ]
    }
   ],
   "source": [
    "df = pd.read_csv(\"bicycle_accident.csv\")"
   ]
  },
  {
   "cell_type": "markdown",
   "metadata": {},
   "source": [
    "Visualisation des données"
   ]
  },
  {
   "cell_type": "code",
   "execution_count": 8,
   "metadata": {},
   "outputs": [
    {
     "data": {
      "text/plain": [
       "<bound method NDFrame.head of             Num_Acc        date    an     mois      jour   hrmn dep    com  \\\n",
       "0      200500000030  2005-01-13  2005  janvier     jeudi  19:45  62  62331   \n",
       "1      200500000034  2005-01-19  2005  janvier  mercredi  10:45  62  62022   \n",
       "2      200500000078  2005-01-26  2005  janvier  mercredi  13:15  02  02173   \n",
       "3      200500000093  2005-01-03  2005  janvier     lundi  13:30  02  02810   \n",
       "4      200500000170  2005-01-29  2005  janvier    samedi  18:30  76  76196   \n",
       "...             ...         ...   ...      ...       ...    ...  ..    ...   \n",
       "74753  202100056317  2021-01-02  2021  janvier    samedi  18:30  44  44168   \n",
       "74754  202100056362  2021-01-04  2021  janvier     lundi  08:20  64  64138   \n",
       "74755  202100056404  2021-01-01  2021  janvier  vendredi  16:55  54  54395   \n",
       "74756  202100056424  2021-01-02  2021  janvier    samedi  15:40  75  75110   \n",
       "74757  202100056508  2021-01-01  2021  janvier  vendredi  12:20  64  64400   \n",
       "\n",
       "             lat      long  ...  equipement  obs  obsm  choc  manv  \\\n",
       "0      50.300000  2.840000  ...           0  0.0   2.0   8.0  11.0   \n",
       "1       0.000000  0.000000  ...           0  0.0   2.0   1.0   1.0   \n",
       "2       0.000000  0.000000  ...           2  0.0   2.0   1.0   1.0   \n",
       "3      49.255000  3.094000  ...           0  0.0   2.0   3.0  21.0   \n",
       "4       0.000000  0.000000  ...           9  0.0   2.0   4.0   2.0   \n",
       "...          ...       ...  ...         ...  ...   ...   ...   ...   \n",
       "74753  47.377789 -2.197641  ...         NaN  0.0   0.0   8.0   1.0   \n",
       "74754  43.230946 -0.276584  ...           2  0.0   2.0   0.0   1.0   \n",
       "74755  48.684987  6.176019  ...           2  0.0   2.0   1.0  25.0   \n",
       "74756  48.876905  2.366594  ...         NaN  0.0   2.0   1.0   1.0   \n",
       "74757  43.146573 -0.195544  ...         2/6  0.0   0.0   8.0   1.0   \n",
       "\n",
       "            vehiculeid  typevehicules  manoeuvehicules  numVehicules  \\\n",
       "0      200500000030B02             18               17           1.0   \n",
       "1      200500000034B02             10               15           1.0   \n",
       "2      200500000078B02              7               15           1.0   \n",
       "3      200500000093B02              7               21           1.0   \n",
       "4      200500000170A01             10                2           1.0   \n",
       "...                ...            ...              ...           ...   \n",
       "74753  202100056317B01              7               14           1.0   \n",
       "74754  202100056362B01              7               15           1.0   \n",
       "74755  202100056404A01              7                1           1.0   \n",
       "74756  202100056424A01              7                9           1.0   \n",
       "74757  202100056508A01            NaN              NaN           NaN   \n",
       "\n",
       "       _infos_commune.code_epci  \n",
       "0                   200033579.0  \n",
       "1                   200018083.0  \n",
       "2                   200071785.0  \n",
       "3                   200071991.0  \n",
       "4                   200084952.0  \n",
       "...                         ...  \n",
       "74753               244400644.0  \n",
       "74754               246401756.0  \n",
       "74755               245400676.0  \n",
       "74756               200054781.0  \n",
       "74757               246401756.0  \n",
       "\n",
       "[74758 rows x 40 columns]>"
      ]
     },
     "execution_count": 8,
     "metadata": {},
     "output_type": "execute_result"
    }
   ],
   "source": [
    "df.head"
   ]
  }
 ],
 "metadata": {
  "kernelspec": {
   "display_name": "Python 3",
   "language": "python",
   "name": "python3"
  },
  "language_info": {
   "codemirror_mode": {
    "name": "ipython",
    "version": 3
   },
   "file_extension": ".py",
   "mimetype": "text/x-python",
   "name": "python",
   "nbconvert_exporter": "python",
   "pygments_lexer": "ipython3",
   "version": "3.12.5"
  }
 },
 "nbformat": 4,
 "nbformat_minor": 2
}
